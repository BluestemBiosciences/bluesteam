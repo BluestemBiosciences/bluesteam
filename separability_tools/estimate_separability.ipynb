{
 "cells": [
  {
   "cell_type": "code",
   "execution_count": 9,
   "id": "4c599375",
   "metadata": {},
   "outputs": [],
   "source": [
    "from utils import BlueStream, run_sequential_distillation, get_sorted_results\n",
    "from datetime import datetime"
   ]
  },
  {
   "cell_type": "code",
   "execution_count": 10,
   "id": "fe2f6c14",
   "metadata": {},
   "outputs": [],
   "source": [
    "# Input - this is a list of candidate broth streams output from fermentation\n",
    "# the objective is to estimate the relative ease of separation of our products of interest \n",
    "# from each of these candidate broth streams\n",
    "streams = [\n",
    "    BlueStream(\n",
    "        ID='AdAcG', # can customize this name; an auto-generated name will be given by default\n",
    "        composition_dict = { # Keys: Chemicals; Use CAS IDs where unsure of names # Values: molar flows (kmol/h)\n",
    "        'Water' : 1000,\n",
    "        'AdipicAcid' : 20,\n",
    "        'AceticAcid' : 20,\n",
    "        'Glycerol' : 20,\n",
    "        },\n",
    "        products = ['AdipicAcid', 'AceticAcid', 'Glycerol'], # Chemicals; Use CAS IDs where unsure of names\n",
    "        impurities = ['Water'] # Chemicals; Use CAS IDs where unsure of names\n",
    "        ),\n",
    "    \n",
    "    BlueStream(\n",
    "        ID='EtAcG',\n",
    "        composition_dict = {\n",
    "        'Water' : 1000,\n",
    "        'Ethanol' : 20,\n",
    "        'AceticAcid' : 20,\n",
    "        'Glycerol' : 20,\n",
    "        },\n",
    "        products = ['Ethanol', 'AceticAcid', 'Glycerol'],\n",
    "        impurities = ['Water']\n",
    "        ),\n",
    "    \n",
    "    BlueStream(\n",
    "        ID='AdG',\n",
    "        composition_dict = {\n",
    "        'Water' : 1000,\n",
    "        'AdipicAcid' : 20,\n",
    "        'Glycerol' : 20,\n",
    "        },\n",
    "        products = ['AdipicAcid', 'Glycerol'],\n",
    "        impurities = ['Water']\n",
    "        ),\n",
    "    \n",
    "    BlueStream(\n",
    "        ID='Ad',\n",
    "        composition_dict = {\n",
    "        'Water' : 1000,\n",
    "        'AdipicAcid' : 20,\n",
    "        },\n",
    "        products = ['AdipicAcid',],\n",
    "        impurities = ['Water']\n",
    "        ),\n",
    "    \n",
    "    ]"
   ]
  },
  {
   "cell_type": "code",
   "execution_count": 11,
   "id": "fcbd8a98",
   "metadata": {},
   "outputs": [],
   "source": [
    "# Add the current time in the name of the excel file that will be saved\n",
    "# (for a custom file name, edit the file_to_save string)\n",
    "dateTimeObj = datetime.now()\n",
    "minute = '0' + str(dateTimeObj.minute) if len(str(dateTimeObj.minute))==1 else str(dateTimeObj.minute)\n",
    "file_to_save='bluesteam_separability_results_%s.%s.%s-%s.%s'%(dateTimeObj.year, dateTimeObj.month, dateTimeObj.day, dateTimeObj.hour, minute)"
   ]
  },
  {
   "cell_type": "code",
   "execution_count": 12,
   "id": "c7cf0da1",
   "metadata": {},
   "outputs": [
    {
     "name": "stdout",
     "output_type": "stream",
     "text": [
      "\n",
      "SequentialDistillationResult\n",
      "Stream: Ad\n",
      "Products: ['AdipicAcid']\n",
      "Impurities: ['Water']\n",
      "Azeotropic key pairs (0 total): []\n",
      "Score: 4705354.119507319\n",
      "\n",
      "\n",
      "SequentialDistillationResult\n",
      "Stream: EtAcG\n",
      "Products: ['Ethanol', 'AceticAcid', 'Glycerol']\n",
      "Impurities: ['Water']\n",
      "Azeotropic key pairs (1 total): [('Ethanol', 'Water')]\n",
      "Score: 1000398268.5547342\n",
      "\n",
      "\n",
      "SequentialDistillationResult\n",
      "Stream: AdG\n",
      "Products: ['AdipicAcid', 'Glycerol']\n",
      "Impurities: ['Water']\n",
      "Azeotropic key pairs (1 total): [('Glycerol', 'AdipicAcid')]\n",
      "Score: 1003705168.9276464\n",
      "\n",
      "\n",
      "SequentialDistillationResult\n",
      "Stream: AdAcG\n",
      "Products: ['AdipicAcid', 'AceticAcid', 'Glycerol']\n",
      "Impurities: ['Water']\n",
      "Azeotropic key pairs (2 total): [('Water', 'AceticAcid'), ('Glycerol', 'AdipicAcid')]\n",
      "Score: 2111073987.3868773\n",
      "\n"
     ]
    }
   ],
   "source": [
    "# Run the analysis\n",
    "results = get_sorted_results(streams, print_results=True, file_to_save=file_to_save)"
   ]
  },
  {
   "cell_type": "code",
   "execution_count": null,
   "id": "09cc75c0",
   "metadata": {},
   "outputs": [],
   "source": []
  }
 ],
 "metadata": {
  "kernelspec": {
   "display_name": "bioenv",
   "language": "python",
   "name": "bioenv"
  },
  "language_info": {
   "codemirror_mode": {
    "name": "ipython",
    "version": 3
   },
   "file_extension": ".py",
   "mimetype": "text/x-python",
   "name": "python",
   "nbconvert_exporter": "python",
   "pygments_lexer": "ipython3",
   "version": "3.8.11"
  }
 },
 "nbformat": 4,
 "nbformat_minor": 5
}
