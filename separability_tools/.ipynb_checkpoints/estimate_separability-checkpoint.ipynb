{
 "cells": [
  {
   "cell_type": "code",
   "execution_count": 1,
   "id": "6f26eaa2",
   "metadata": {},
   "outputs": [
    {
     "ename": "ModuleNotFoundError",
     "evalue": "No module named 'bluesteam'",
     "output_type": "error",
     "traceback": [
      "\u001b[1;31m---------------------------------------------------------------------------\u001b[0m",
      "\u001b[1;31mModuleNotFoundError\u001b[0m                       Traceback (most recent call last)",
      "\u001b[1;32m<ipython-input-1-d5f41c862c39>\u001b[0m in \u001b[0;36m<module>\u001b[1;34m\u001b[0m\n\u001b[1;32m----> 1\u001b[1;33m \u001b[1;32mfrom\u001b[0m \u001b[0mbluesteam\u001b[0m\u001b[1;33m.\u001b[0m\u001b[0mseparability_tools\u001b[0m\u001b[1;33m.\u001b[0m\u001b[0mutils\u001b[0m \u001b[1;32mimport\u001b[0m \u001b[0mBlueStream\u001b[0m\u001b[1;33m,\u001b[0m \u001b[0mrun_sequential_distillation\u001b[0m\u001b[1;33m,\u001b[0m \u001b[0mget_sorted_results\u001b[0m\u001b[1;33m\u001b[0m\u001b[1;33m\u001b[0m\u001b[0m\n\u001b[0m\u001b[0;32m      2\u001b[0m \u001b[1;32mfrom\u001b[0m \u001b[0mdatetime\u001b[0m \u001b[1;32mimport\u001b[0m \u001b[0mdatetime\u001b[0m\u001b[1;33m\u001b[0m\u001b[1;33m\u001b[0m\u001b[0m\n",
      "\u001b[1;31mModuleNotFoundError\u001b[0m: No module named 'bluesteam'"
     ]
    }
   ],
   "source": [
    "from utils import BlueStream, run_sequential_distillation, get_sorted_results\n",
    "from datetime import datetime"
   ]
  },
  {
   "cell_type": "code",
   "execution_count": 2,
   "id": "5ef331e0",
   "metadata": {},
   "outputs": [
    {
     "ename": "NameError",
     "evalue": "name 'BlueStream' is not defined",
     "output_type": "error",
     "traceback": [
      "\u001b[1;31m---------------------------------------------------------------------------\u001b[0m",
      "\u001b[1;31mNameError\u001b[0m                                 Traceback (most recent call last)",
      "\u001b[1;32m<ipython-input-2-4e70de8a149b>\u001b[0m in \u001b[0;36m<module>\u001b[1;34m\u001b[0m\n\u001b[0;32m      3\u001b[0m \u001b[1;31m# Inputs - these are a list of possible broth streams output from fermentation\u001b[0m\u001b[1;33m\u001b[0m\u001b[1;33m\u001b[0m\u001b[1;33m\u001b[0m\u001b[0m\n\u001b[0;32m      4\u001b[0m streams = [\n\u001b[1;32m----> 5\u001b[1;33m     BlueStream(\n\u001b[0m\u001b[0;32m      6\u001b[0m         \u001b[0mID\u001b[0m\u001b[1;33m=\u001b[0m\u001b[1;34m'AdAcG'\u001b[0m\u001b[1;33m,\u001b[0m \u001b[1;31m# can customize this name; an auto-generated name will be given by default\u001b[0m\u001b[1;33m\u001b[0m\u001b[1;33m\u001b[0m\u001b[0m\n\u001b[0;32m      7\u001b[0m         composition_dict = { # Keys: Chemicals; Use CAS IDs where unsure of names # Values: molar flows (kmol/h)\n",
      "\u001b[1;31mNameError\u001b[0m: name 'BlueStream' is not defined"
     ]
    }
   ],
   "source": [
    "# Input - this is a list of candidate broth streams output from fermentation\n",
    "# the objective is to estimate the relative ease of separation of our products of interest \n",
    "# from each of these candidate broth streams\n",
    "streams = [\n",
    "    BlueStream(\n",
    "        ID='AdAcG', # can customize this name; an auto-generated name will be given by default\n",
    "        composition_dict = { # Keys: Chemicals; Use CAS IDs where unsure of names # Values: molar flows (kmol/h)\n",
    "        'Water' : 1000,\n",
    "        'AdipicAcid' : 20,\n",
    "        'AceticAcid' : 20,\n",
    "        'Glycerol' : 20,\n",
    "        },\n",
    "        products = ['AdipicAcid', 'AceticAcid', 'Glycerol'], # Chemicals; Use CAS IDs where unsure of names\n",
    "        impurities = ['Water'] # Chemicals; Use CAS IDs where unsure of names\n",
    "        ),\n",
    "    \n",
    "    BlueStream(\n",
    "        ID='EtAcG',\n",
    "        composition_dict = {\n",
    "        'Water' : 1000,\n",
    "        'Ethanol' : 20,\n",
    "        'AceticAcid' : 20,\n",
    "        'Glycerol' : 20,\n",
    "        },\n",
    "        products = ['Ethanol', 'AceticAcid', 'Glycerol'],\n",
    "        impurities = ['Water']\n",
    "        ),\n",
    "    \n",
    "    BlueStream(\n",
    "        ID='AdG',\n",
    "        composition_dict = {\n",
    "        'Water' : 1000,\n",
    "        'AdipicAcid' : 20,\n",
    "        'Glycerol' : 20,\n",
    "        },\n",
    "        products = ['AdipicAcid', 'Glycerol'],\n",
    "        impurities = ['Water']\n",
    "        ),\n",
    "    \n",
    "    BlueStream(\n",
    "        ID='Ad',\n",
    "        composition_dict = {\n",
    "        'Water' : 1000,\n",
    "        'AdipicAcid' : 20,\n",
    "        },\n",
    "        products = ['AdipicAcid',],\n",
    "        impurities = ['Water']\n",
    "        ),\n",
    "    \n",
    "    ]"
   ]
  },
  {
   "cell_type": "code",
   "execution_count": 3,
   "id": "b765bf65",
   "metadata": {},
   "outputs": [
    {
     "ename": "NameError",
     "evalue": "name 'datetime' is not defined",
     "output_type": "error",
     "traceback": [
      "\u001b[1;31m---------------------------------------------------------------------------\u001b[0m",
      "\u001b[1;31mNameError\u001b[0m                                 Traceback (most recent call last)",
      "\u001b[1;32m<ipython-input-3-2974b1d8e925>\u001b[0m in \u001b[0;36m<module>\u001b[1;34m\u001b[0m\n\u001b[0;32m      1\u001b[0m \u001b[1;31m# Save file with the current time in the name (for a custom file name, edit the file_to_save string)\u001b[0m\u001b[1;33m\u001b[0m\u001b[1;33m\u001b[0m\u001b[1;33m\u001b[0m\u001b[0m\n\u001b[1;32m----> 2\u001b[1;33m \u001b[0mdateTimeObj\u001b[0m \u001b[1;33m=\u001b[0m \u001b[0mdatetime\u001b[0m\u001b[1;33m.\u001b[0m\u001b[0mnow\u001b[0m\u001b[1;33m(\u001b[0m\u001b[1;33m)\u001b[0m\u001b[1;33m\u001b[0m\u001b[1;33m\u001b[0m\u001b[0m\n\u001b[0m\u001b[0;32m      3\u001b[0m \u001b[0mminute\u001b[0m \u001b[1;33m=\u001b[0m \u001b[1;34m'0'\u001b[0m \u001b[1;33m+\u001b[0m \u001b[0mstr\u001b[0m\u001b[1;33m(\u001b[0m\u001b[0mdateTimeObj\u001b[0m\u001b[1;33m.\u001b[0m\u001b[0mminute\u001b[0m\u001b[1;33m)\u001b[0m \u001b[1;32mif\u001b[0m \u001b[0mlen\u001b[0m\u001b[1;33m(\u001b[0m\u001b[0mstr\u001b[0m\u001b[1;33m(\u001b[0m\u001b[0mdateTimeObj\u001b[0m\u001b[1;33m.\u001b[0m\u001b[0mminute\u001b[0m\u001b[1;33m)\u001b[0m\u001b[1;33m)\u001b[0m\u001b[1;33m==\u001b[0m\u001b[1;36m1\u001b[0m \u001b[1;32melse\u001b[0m \u001b[0mstr\u001b[0m\u001b[1;33m(\u001b[0m\u001b[0mdateTimeObj\u001b[0m\u001b[1;33m.\u001b[0m\u001b[0mminute\u001b[0m\u001b[1;33m)\u001b[0m\u001b[1;33m\u001b[0m\u001b[1;33m\u001b[0m\u001b[0m\n\u001b[0;32m      4\u001b[0m \u001b[0mfile_to_save\u001b[0m\u001b[1;33m=\u001b[0m\u001b[1;34m'bluesteam_separability_results_%s.%s.%s-%s.%s'\u001b[0m\u001b[1;33m%\u001b[0m\u001b[1;33m(\u001b[0m\u001b[0mdateTimeObj\u001b[0m\u001b[1;33m.\u001b[0m\u001b[0myear\u001b[0m\u001b[1;33m,\u001b[0m \u001b[0mdateTimeObj\u001b[0m\u001b[1;33m.\u001b[0m\u001b[0mmonth\u001b[0m\u001b[1;33m,\u001b[0m \u001b[0mdateTimeObj\u001b[0m\u001b[1;33m.\u001b[0m\u001b[0mday\u001b[0m\u001b[1;33m,\u001b[0m \u001b[0mdateTimeObj\u001b[0m\u001b[1;33m.\u001b[0m\u001b[0mhour\u001b[0m\u001b[1;33m,\u001b[0m \u001b[0mminute\u001b[0m\u001b[1;33m)\u001b[0m\u001b[1;33m\u001b[0m\u001b[1;33m\u001b[0m\u001b[0m\n",
      "\u001b[1;31mNameError\u001b[0m: name 'datetime' is not defined"
     ]
    }
   ],
   "source": [
    "# Add the current time in the name of the excel file that will be saved\n",
    "# (for a custom file name, edit the file_to_save string)\n",
    "dateTimeObj = datetime.now()\n",
    "minute = '0' + str(dateTimeObj.minute) if len(str(dateTimeObj.minute))==1 else str(dateTimeObj.minute)\n",
    "file_to_save='bluesteam_separability_results_%s.%s.%s-%s.%s'%(dateTimeObj.year, dateTimeObj.month, dateTimeObj.day, dateTimeObj.hour, minute)\n"
   ]
  },
  {
   "cell_type": "code",
   "execution_count": null,
   "id": "f8425c5c",
   "metadata": {},
   "outputs": [],
   "source": [
    "# Run the analysis\n",
    "results = get_sorted_results(streams, print_results=True, file_to_save=file_to_save)"
   ]
  }
 ],
 "metadata": {
  "kernelspec": {
   "display_name": "bioenv",
   "language": "python",
   "name": "bioenv"
  },
  "language_info": {
   "codemirror_mode": {
    "name": "ipython",
    "version": 3
   },
   "file_extension": ".py",
   "mimetype": "text/x-python",
   "name": "python",
   "nbconvert_exporter": "python",
   "pygments_lexer": "ipython3",
   "version": "3.8.11"
  }
 },
 "nbformat": 4,
 "nbformat_minor": 5
}
